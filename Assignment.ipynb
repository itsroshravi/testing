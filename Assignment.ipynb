{
 "cells": [
  {
   "cell_type": "markdown",
   "id": "97d127ea-17cb-44dd-850e-79c4fbe08695",
   "metadata": {},
   "source": [
    "<h1> My Jupyter NoteBook on IBM Watsun Studio </h1>\n"
   ]
  },
  {
   "cell_type": "markdown",
   "id": "b8211117-6700-4ff7-9028-72008edc5117",
   "metadata": {},
   "source": [
    "<div>\n",
    "    <strong>Roshna Ravindran</strong> </br>\n",
    "Data Scientist\n",
    "</div>"
   ]
  },
  {
   "cell_type": "markdown",
   "id": "8c8fb59d-ffb4-4565-9e4c-a56186c260f6",
   "metadata": {},
   "source": [
    "<em> I am Interested in Data Science because it enables to acquire new knowledge skills and integrate with existing ones to enable to make better business decisons. </em>"
   ]
  },
  {
   "cell_type": "markdown",
   "id": "f639253e-bc6e-4ce1-be14-4117fc33fa44",
   "metadata": {},
   "source": [
    "<h3> The code in the next cell will display the the square of 5 </h3>"
   ]
  },
  {
   "cell_type": "code",
   "execution_count": 2,
   "id": "a6c9b711-43e4-430b-b900-10a994cace04",
   "metadata": {},
   "outputs": [
    {
     "data": {
      "text/plain": [
       "25"
      ]
     },
     "execution_count": 2,
     "metadata": {},
     "output_type": "execute_result"
    }
   ],
   "source": [
    "5*5"
   ]
  },
  {
   "cell_type": "markdown",
   "id": "05a85695-2110-4ecc-b35b-e638f8096bc8",
   "metadata": {},
   "source": [
    "***\n",
    "This is a New Section for Horizontal Rules\n",
    "***\n",
    "* This is first bullet\n",
    "* This is second Bullet\n",
    "* This is Third Bullet\n",
    "\n",
    "1. This  is a numbered Bullet 1\n",
    "2. This is a number Bullet 2\n",
    "3. This is numbered Bullet 3\n",
    "\n",
    "<a href=\"https://www.google.co.in/\" > Click here to open Google </a>\n",
    "\n",
    "`This is a Highligted Sentence`"
   ]
  },
  {
   "cell_type": "code",
   "execution_count": null,
   "id": "a30ad5e6-3c43-4759-a2df-e797a330e056",
   "metadata": {},
   "outputs": [],
   "source": []
  }
 ],
 "metadata": {
  "kernelspec": {
   "display_name": "Python",
   "language": "python",
   "name": "conda-env-python-py"
  },
  "language_info": {
   "codemirror_mode": {
    "name": "ipython",
    "version": 3
   },
   "file_extension": ".py",
   "mimetype": "text/x-python",
   "name": "python",
   "nbconvert_exporter": "python",
   "pygments_lexer": "ipython3",
   "version": "3.7.12"
  }
 },
 "nbformat": 4,
 "nbformat_minor": 5
}
